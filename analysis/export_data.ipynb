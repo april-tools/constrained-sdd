{
 "cells": [
  {
   "cell_type": "code",
   "execution_count": 2,
   "metadata": {},
   "outputs": [],
   "source": [
    "import numpy as np\n",
    "import pickle"
   ]
  },
  {
   "cell_type": "code",
   "execution_count": 15,
   "metadata": {},
   "outputs": [],
   "source": [
    "def correct_dict(d):\n",
    "    # merge \"Object\" with \"Obstacle\"\n",
    "    if \"Object\" in d and \"Obstacle\" in d:\n",
    "        d[\"Obstacle\"] += d[\"Object\"]\n",
    "        del d[\"Object\"]\n",
    "    return d"
   ]
  },
  {
   "cell_type": "code",
   "execution_count": 16,
   "metadata": {},
   "outputs": [],
   "source": [
    "sdd_original_data_path: str = \"../data/sdd_original\"\n",
    "sdd_data_path: str = \"../data/sdd\"\n",
    "\n",
    "with open(f\"{sdd_original_data_path}/final_ineqs.pkl\", \"rb\") as f:\n",
    "    final_ineqs = pickle.load(f)\n",
    "\n",
    "with open(f\"{sdd_original_data_path}/liner_ineqs_corrected_12.pkl\", \"rb\") as f:\n",
    "    corrected_ineqs = pickle.load(f)\n",
    "\n",
    "final_ineqs[12] = corrected_ineqs\n",
    "\n",
    "final_ineqs = {k: correct_dict(v) for k, v in final_ineqs.items()}\n",
    "\n",
    "with open(f\"{sdd_data_path}/ineqs.pkl\", \"wb\") as f:\n",
    "    pickle.dump(final_ineqs, f)"
   ]
  },
  {
   "cell_type": "code",
   "execution_count": 17,
   "metadata": {},
   "outputs": [],
   "source": [
    "with open(f\"{sdd_original_data_path}/polygons.pkl\", \"rb\") as f:\n",
    "    polygons = pickle.load(f)\n",
    "\n",
    "polygons = {k: correct_dict(v) for k, v in polygons.items()}\n",
    "\n",
    "with open(f\"{sdd_data_path}/polygons.pkl\", \"wb\") as f:\n",
    "    pickle.dump(polygons, f)"
   ]
  },
  {
   "cell_type": "code",
   "execution_count": null,
   "metadata": {},
   "outputs": [],
   "source": []
  }
 ],
 "metadata": {
  "kernelspec": {
   "display_name": "constrained_prob_ml",
   "language": "python",
   "name": "python3"
  },
  "language_info": {
   "codemirror_mode": {
    "name": "ipython",
    "version": 3
   },
   "file_extension": ".py",
   "mimetype": "text/x-python",
   "name": "python",
   "nbconvert_exporter": "python",
   "pygments_lexer": "ipython3",
   "version": "3.12.8"
  }
 },
 "nbformat": 4,
 "nbformat_minor": 2
}
